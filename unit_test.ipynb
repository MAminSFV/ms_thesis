{
 "cells": [
  {
   "cell_type": "code",
   "execution_count": 1,
   "source": [
    "include(joinpath(dirname(@__FILE__),\"../../dynamics/quaternions.jl\"))\r\n",
    "using MeshCat\r\n",
    "using GeometryTypes\r\n",
    "using CoordinateTransformations\r\n",
    "using FileIO\r\n",
    "using MeshIO\r\n",
    "using LinearAlgebra\r\n",
    "using Plots\r\n",
    "using TrajectoryOptimization\r\n",
    "include(\"models.jl\")\r\n",
    "include(\"visualization.jl\")\r\n",
    "include(\"problem.jl\");"
   ],
   "outputs": [
    {
     "output_type": "display_data",
     "data": {
      "text/html": [
       "    <script class='js-collapse-script'>\n",
       "        var curMatch =\n",
       "            window.location.href\n",
       "            .match(/(.*?)\\/notebooks\\/.*\\.ipynb/);\n",
       "\n",
       "        curMatch = curMatch ||\n",
       "            window.location.href\n",
       "            .match(/(.*?)\\/apps\\/.*\\.ipynb/);\n",
       "\n",
       "        if ( curMatch ) {\n",
       "            $('head').append('<base href=\"' + curMatch[1] + '/\">');\n",
       "        }\n",
       "    </script>\n"
      ],
      "text/plain": [
       "HTML{String}(\"    <script class='js-collapse-script'>\\n        var curMatch =\\n            window.location.href\\n            .match(/(.*?)\\\\/notebooks\\\\/.*\\\\.ipynb/);\\n\\n        curMatch = curMatch ||\\n            window.location.href\\n            .match(/(.*?)\\\\/apps\\\\/.*\\\\.ipynb/);\\n\\n        if ( curMatch ) {\\n            \\$('head').append('<base href=\\\"' + curMatch[1] + '/\\\">');\\n        }\\n    </script>\\n\")"
      ]
     },
     "metadata": {}
    },
    {
     "output_type": "display_data",
     "data": {
      "text/html": [
       "<script class='js-collapse-script' src='/assetserver/e7e29036d03bad227849884779609b60b0da6475-assets/webio/dist/bundle.js'></script>"
      ],
      "text/plain": [
       "HTML{String}(\"<script class='js-collapse-script' src='/assetserver/e7e29036d03bad227849884779609b60b0da6475-assets/webio/dist/bundle.js'></script>\")"
      ]
     },
     "metadata": {}
    },
    {
     "output_type": "display_data",
     "data": {
      "text/html": [
       "<script class='js-collapse-script' src='/assetserver/e7e29036d03bad227849884779609b60b0da6475-assets/providers/ijulia_setup.js'></script>"
      ],
      "text/plain": [
       "HTML{String}(\"<script class='js-collapse-script' src='/assetserver/e7e29036d03bad227849884779609b60b0da6475-assets/providers/ijulia_setup.js'></script>\")"
      ]
     },
     "metadata": {}
    },
    {
     "output_type": "display_data",
     "data": {
      "text/html": [
       "  <script class='js-collapse-script'>\n",
       "    $('.js-collapse-script').parent('.output_subarea').css('padding', '0');\n",
       "  </script>\n"
      ],
      "text/plain": [
       "HTML{String}(\"  <script class='js-collapse-script'>\\n    \\$('.js-collapse-script').parent('.output_subarea').css('padding', '0');\\n  </script>\\n\")"
      ]
     },
     "metadata": {}
    }
   ],
   "metadata": {}
  },
  {
   "cell_type": "code",
   "execution_count": 11,
   "source": [
    "# Create a new visualizer instance\r\n",
    "vis = Visualizer()\r\n",
    "open(vis)"
   ],
   "outputs": [
    {
     "output_type": "stream",
     "name": "stderr",
     "text": [
      "┌ Info: Serving MeshCat visualizer at http://127.0.0.1:8730\n",
      "└ @ MeshCat C:\\Users\\User\\.julia\\packages\\MeshCat\\J3ExE\\src\\servers.jl:24\n"
     ]
    },
    {
     "output_type": "execute_result",
     "data": {
      "text/plain": [
       "Process(`\u001b[4mcmd.exe\u001b[24m \u001b[4m/C\u001b[24m \u001b[4m'start http://127.0.0.1:8730'\u001b[24m`, ProcessExited(0))"
      ]
     },
     "metadata": {},
     "execution_count": 11
    }
   ],
   "metadata": {}
  },
  {
   "cell_type": "code",
   "execution_count": 12,
   "source": [
    "num_lift = 10\r\n",
    "params = set_platform_params(1., 1., 0.05, num_lift)\r\n",
    "r_anc = params.r_anc\r\n",
    "r_plat = params.r\r\n",
    "h = params.h\r\n",
    "d = 1\r\n",
    "\r\n",
    "traj_folder = joinpath(dirname(pathof(TrajectoryOptimization)),\"..\")\r\n",
    "urdf_folder = joinpath(traj_folder, \"dynamics\",\"urdf\")\r\n",
    "obj = joinpath(urdf_folder, \"quadrotor_base.obj\")\r\n",
    "\r\n",
    "r_platform = [0. 0. 0.]\r\n",
    "q_platform = [0. 0. 0. 1]\r\n",
    "x_platform = [r_platform q_platform]\r\n",
    "\r\n",
    "r_lift = get_quad_locations(x_platform, d, 0.1, num_lift; config=:platform, r_cables = r_anc)\r\n",
    "x_anc = get_anchors_global(x_platform, r_anc)\r\n",
    "\r\n",
    "quad_scaling = 0.085\r\n",
    "robot_obj = FileIO.load(obj)\r\n",
    "robot_obj.vertices .= robot_obj.vertices .* quad_scaling;"
   ],
   "outputs": [],
   "metadata": {}
  },
  {
   "cell_type": "code",
   "execution_count": 13,
   "source": [
    "# Spawn Lift agents\r\n",
    "for i = 1:num_lift\r\n",
    "    setobject!(vis[\"lift$i\"],robot_obj,MeshPhongMaterial(color=RGBA(0, 0, 0, 1.0)))\r\n",
    "    cable = Cylinder(Point3f0(0,0,0),Point3f0(0,0,d),convert(Float32,0.01))\r\n",
    "    setobject!(vis[\"cable\"][\"$i\"],cable,MeshPhongMaterial(color=RGBA(1, 0, 0, 1.0)))\r\n",
    "end\r\n",
    "# Spawn the platform\r\n",
    "setobject!(vis[\"platform\"], Cylinder(Point3f0(0,0,-h/2),Point3f0(0,0,h/2),convert(Float32,r_plat)),MeshPhongMaterial(color=RGBA(0, 0.9, 0., 1.0))) #REVIEW - Cylinder properties\r\n",
    "\r\n",
    "for i=1:length(r_anc)\r\n",
    "    setobject!(vis[\"platform\"][\"Anchor$i\"],HyperSphere(Point3f0(r_anc[i]), convert(Float32,0.05)) ,MeshPhongMaterial(color=RGBA(0, 0, 0.8, 1))) # Anchors # REVIEW - Needs unit testing\r\n",
    "end\r\n",
    "\r\n",
    "for i = 1:num_lift\r\n",
    "    settransform!(vis[\"cable\"][\"$i\"], cable_transform(r_lift[i],x_anc[i]))\r\n",
    "    settransform!(vis[\"lift$i\"], Translation(r_lift[i]))\r\n",
    "end\r\n",
    "\r\n",
    "settransform!(vis[\"platform\"], compose(Translation(r_platform...),LinearMap(Quat(q_platform...))))"
   ],
   "outputs": [
    {
     "output_type": "execute_result",
     "data": {
      "text/plain": [
       "MeshCat Visualizer with path /meshcat/platform"
      ]
     },
     "metadata": {},
     "execution_count": 13
    },
    {
     "output_type": "stream",
     "name": "stderr",
     "text": [
      "Error handling websocket connection:\n",
      "TaskFailedException\n",
      "Stacktrace:\n",
      "  [1] \u001b[0m\u001b[1mwait\u001b[22m\n",
      "\u001b[90m    @ \u001b[39m\u001b[90m.\\\u001b[39m\u001b[90;4mtask.jl:322\u001b[0m\u001b[90m [inlined]\u001b[39m\n",
      "  [2] \u001b[0m\u001b[1mcreate_socket\u001b[22m\u001b[0m\u001b[1m(\u001b[22m\u001b[90mreq\u001b[39m::\u001b[0mDict\u001b[90m{Any, Any}\u001b[39m\u001b[0m\u001b[1m)\u001b[22m\n",
      "\u001b[90m    @ \u001b[39m\u001b[35mWebIO\u001b[39m \u001b[90mC:\\Users\\User\\.julia\\packages\\WebIO\\Rk8wc\\src\\providers\\\u001b[39m\u001b[90;4mmux.jl:44\u001b[0m\n",
      "  [3] \u001b[0m\u001b[1m(::Mux.var\"#5#6\"{Mux.var\"#31#32\"{Vector{SubString{String}}}, typeof(WebIO.create_socket)})\u001b[22m\u001b[0m\u001b[1m(\u001b[22m\u001b[90mf\u001b[39m::\u001b[0mFunction, \u001b[90mx\u001b[39m::\u001b[0mDict\u001b[90m{Any, Any}\u001b[39m\u001b[0m\u001b[1m)\u001b[22m\n",
      "\u001b[90m    @ \u001b[39m\u001b[36mMux\u001b[39m \u001b[90mC:\\Users\\User\\.julia\\packages\\Mux\\3h8RY\\src\\\u001b[39m\u001b[90;4mMux.jl:17\u001b[0m\n",
      "  [4] \u001b[0m\u001b[1m(::Mux.var\"#1#2\"{Mux.var\"#5#6\"{Mux.var\"#31#32\"{Vector{SubString{String}}}, typeof(WebIO.create_socket)}, Mux.var\"#1#2\"{typeof(Mux.wclose), Mux.var\"#1#2\"{Mux.var\"#21#22\"{Mux.var\"#25#26\"{Symbol, Int64}}, Mux.var\"#23#24\"{String}}}})\u001b[22m\u001b[0m\u001b[1m(\u001b[22mError handling websocket connection:\u001b[90mx\u001b[39m\n",
      "::TaskFailedException\u001b[0mDict\n",
      "Stacktrace:\u001b[90m{Any, Any}\u001b[39m\n",
      "\u001b[0m\u001b[1m)\u001b[22m \n",
      " [1]\u001b[90m    @ \u001b[39m \u001b[36mMux\u001b[39m\u001b[0m\u001b[1mwait\u001b[22m \n",
      "\u001b[90mC:\\Users\\User\\.julia\\packages\\Mux\\3h8RY\\src\\\u001b[39m\u001b[90m    @ \u001b[39m\u001b[90;4m\u001b[90m.\\\u001b[39mMux.jl:10\u001b[0m\u001b[90;4m\n",
      "task.jl:322\u001b[0m\u001b[90m [inlined]\u001b[39m \n",
      " [5]  \u001b[0m\u001b[1msplitquery\u001b[22m [2]\u001b[0m\u001b[1m(\u001b[22m \u001b[90mapp\u001b[39m\u001b[0m\u001b[1mcreate_socket\u001b[22m::\u001b[0m\u001b[1m(\u001b[22m\u001b[0mMux.var\"#1#2\"\u001b[90mreq\u001b[39m\u001b[90m{Mux.var\"#5#6\"{Mux.var\"#31#32\"{Vector{SubString{String}}}, typeof(WebIO.create_socket)}, Mux.var\"#1#2\"{typeof(Mux.wclose), Mux.var\"#1#2\"{Mux.var\"#21#22\"{Mux.var\"#25#26\"{Symbol, Int64}}, Mux.var\"#23#24\"{String}}}}\u001b[39m::, \u001b[0mDict\u001b[90mreq\u001b[39m\u001b[90m{Any, Any}\u001b[39m::\u001b[0m\u001b[1m)\u001b[22m\u001b[0mDict\n",
      "\u001b[90m{Any, Any}\u001b[39m\u001b[90m    @ \u001b[39m\u001b[0m\u001b[1m)\u001b[22m\u001b[35mWebIO\u001b[39m\n",
      " \u001b[90m    @ \u001b[39m\u001b[90mC:\\Users\\User\\.julia\\packages\\WebIO\\Rk8wc\\src\\providers\\\u001b[39m\u001b[36mMux\u001b[39m\u001b[90;4m mux.jl\u001b[90mC:\\Users\\User\\.julia\\packages\\Mux\\3h8RY\\src\\\u001b[39m:44\u001b[0m\u001b[90;4m\n",
      "basics.jl:31\u001b[0m \n",
      " [3]  \u001b[0m\u001b[1m(::Mux.var\"#5#6\"{Mux.var\"#31#32\"{Vector{SubString{String}}}, typeof(WebIO.create_socket)})\u001b[22m [6]\u001b[0m\u001b[1m(\u001b[22m \u001b[90mf\u001b[39m\u001b[0m\u001b[1m#1\u001b[22m::\n",
      "\u001b[0mFunction\u001b[90m    @ \u001b[39m, \u001b[90mC:\\Users\\User\\.julia\\packages\\Mux\\3h8RY\\src\\\u001b[39m\u001b[90mx\u001b[39m\u001b[90;4m::Mux.jl\u001b[0mDict:\u001b[90m{Any, Any}\u001b[39m10\u001b[0m\u001b[1m)\u001b[22m\u001b[0m\n",
      "\u001b[90m [inlined]\u001b[39m\u001b[90m    @ \u001b[39m\n",
      "\u001b[36mMux\u001b[39m   [7]\u001b[90mC:\\Users\\User\\.julia\\packages\\Mux\\3h8RY\\src\\\u001b[39m \u001b[90;4m\u001b[0m\u001b[1mwcatch\u001b[22mMux.jl\u001b[0m\u001b[1m(\u001b[22m:\u001b[90mapp\u001b[39m17::\u001b[0m\u001b[0mMux.var\"#1#2\"\u001b[90m{typeof(Mux.splitquery), Mux.var\"#1#2\"{Mux.var\"#5#6\"{Mux.var\"#31#32\"{Vector{SubString{String}}}, typeof(WebIO.create_socket)}, Mux.var\"#1#2\"{typeof(Mux.wclose), Mux.var\"#1#2\"{Mux.var\"#21#22\"{Mux.var\"#25#26\"{Symbol, Int64}}, Mux.var\"#23#24\"{String}}}}}\u001b[39m\n",
      ",  \u001b[90mreq\u001b[39m [4]:: \u001b[0mDict\u001b[0m\u001b[1m(::Mux.var\"#1#2\"{Mux.var\"#5#6\"{Mux.var\"#31#32\"{Vector{SubString{String}}}, typeof(WebIO.create_socket)}, Mux.var\"#1#2\"{typeof(Mux.wclose), Mux.var\"#1#2\"{Mux.var\"#21#22\"{Mux.var\"#25#26\"{Symbol, Int64}}, Mux.var\"#23#24\"{String}}}})\u001b[22m\u001b[90m{Any, Any}\u001b[39m\u001b[0m\u001b[1m(\u001b[22m\u001b[0m\u001b[1m)\u001b[22m\u001b[90mx\u001b[39m\n",
      "::\u001b[90m    @ \u001b[39m\u001b[0mDict\u001b[36mMux\u001b[39m\u001b[90m{Any, Any}\u001b[39m \u001b[0m\u001b[1m)\u001b[22m\u001b[90mC:\\Users\\User\\.julia\\packages\\Mux\\3h8RY\\src\\\u001b[39m\n",
      "\u001b[90;4m\u001b[90m    @ \u001b[39mwebsockets_integration.jl\u001b[36mMux\u001b[39m: 12\u001b[90mC:\\Users\\User\\.julia\\packages\\Mux\\3h8RY\\src\\\u001b[39m\u001b[0m\u001b[90;4m\n",
      "Mux.jl:10\u001b[0m \n",
      " [8]  \u001b[0m\u001b[1m#1\u001b[22m [5]\n",
      " \u001b[90m    @ \u001b[39m\u001b[0m\u001b[1msplitquery\u001b[22m\u001b[90mC:\\Users\\User\\.julia\\packages\\Mux\\3h8RY\\src\\\u001b[39m\u001b[0m\u001b[1m(\u001b[22m\u001b[90;4m\u001b[90mapp\u001b[39mMux.jl:::\u001b[0mMux.var\"#1#2\"10\u001b[90m{Mux.var\"#5#6\"{Mux.var\"#31#32\"{Vector{SubString{String}}}, typeof(WebIO.create_socket)}, Mux.var\"#1#2\"{typeof(Mux.wclose), Mux.var\"#1#2\"{Mux.var\"#21#22\"{Mux.var\"#25#26\"{Symbol, Int64}}, Mux.var\"#23#24\"{String}}}}\u001b[39m\u001b[0m, \u001b[90m [inlined]\u001b[39m\u001b[90mreq\u001b[39m\n",
      ":: \u001b[0mDict [9]\u001b[90m{Any, Any}\u001b[39m \u001b[0m\u001b[1m)\u001b[22m\u001b[0m\u001b[1mtodict\u001b[22m\n",
      "\n",
      "\u001b[90m    @ \u001b[39m\u001b[90m    @ \u001b[39m\u001b[36mMux\u001b[39m\u001b[90mC:\\Users\\User\\.julia\\packages\\Mux\\3h8RY\\src\\\u001b[39m \u001b[90;4m\u001b[90mC:\\Users\\User\\.julia\\packages\\Mux\\3h8RY\\src\\\u001b[39mbasics.jl:25\u001b[0m\u001b[90m [inlined]\u001b[39m\u001b[90;4m\n",
      "basics.jl:31\u001b[0m \n",
      "[10]  \u001b[0m\u001b[1m#3\u001b[22m [6]\u001b[90m (repeats 2 times)\u001b[39m \n",
      "\u001b[0m\u001b[1m#1\u001b[22m\u001b[90m    @ \u001b[39m\n",
      "\u001b[90mC:\\Users\\User\\.julia\\packages\\Mux\\3h8RY\\src\\\u001b[39m\u001b[90m    @ \u001b[39m\u001b[90;4m\u001b[90mC:\\Users\\User\\.julia\\packages\\Mux\\3h8RY\\src\\\u001b[39mMux.jl:14\u001b[0m\u001b[90m [inlined]\u001b[39m\u001b[90;4m\n",
      "Mux.jl:10\u001b[0m\u001b[90m [inlined]\u001b[39m \n",
      "[11]  \u001b[0m\u001b[1m(::Mux.var\"#1#2\"{Mux.var\"#3#4\"{Mux.var\"#3#4\"{typeof(Mux.todict), typeof(Mux.wcatch)}, typeof(Mux.splitquery)}, Mux.var\"#1#2\"{Mux.var\"#5#6\"{Mux.var\"#31#32\"{Vector{SubString{String}}}, typeof(WebIO.create_socket)}, Mux.var\"#1#2\"{typeof(Mux.wclose), Mux.var\"#1#2\"{Mux.var\"#21#22\"{Mux.var\"#25#26\"{Symbol, Int64}}, Mux.var\"#23#24\"{String}}}}})\u001b[22m [7]\u001b[0m\u001b[1m(\u001b[22m \u001b[90mx\u001b[39m\u001b[0m\u001b[1mwcatch\u001b[22m::\u001b[0m\u001b[1m(\u001b[22m\u001b[0mTuple\u001b[90mapp\u001b[39m\u001b[90m{HTTP.Messages.Request, WebSockets.WebSocket{Sockets.TCPSocket}}\u001b[39m::\u001b[0m\u001b[1m)\u001b[22m\u001b[0mMux.var\"#1#2\"\n",
      "\u001b[90m{typeof(Mux.splitquery), Mux.var\"#1#2\"{Mux.var\"#5#6\"{Mux.var\"#31#32\"{Vector{SubString{String}}}, typeof(WebIO.create_socket)}, Mux.var\"#1#2\"{typeof(Mux.wclose), Mux.var\"#1#2\"{Mux.var\"#21#22\"{Mux.var\"#25#26\"{Symbol, Int64}}, Mux.var\"#23#24\"{String}}}}}\u001b[39m\u001b[90m    @ \u001b[39m, \u001b[36mMux\u001b[39m\u001b[90mreq\u001b[39m ::\u001b[90mC:\\Users\\User\\.julia\\packages\\Mux\\3h8RY\\src\\\u001b[39m\u001b[0mDict\u001b[90;4m\u001b[90m{Any, Any}\u001b[39mMux.jl\u001b[0m\u001b[1m)\u001b[22m:\n",
      "10\u001b[90m    @ \u001b[39m\u001b[0m\u001b[36mMux\u001b[39m \n",
      "\u001b[90mC:\\Users\\User\\.julia\\packages\\Mux\\3h8RY\\src\\\u001b[39m [12] \u001b[90;4m\u001b[0m\u001b[1m(::Mux.var\"#9#10\"{Mux.App})\u001b[22mwebsockets_integration.jl\u001b[0m\u001b[1m(\u001b[22m:\u001b[90mreq\u001b[39m12::\u001b[0m\u001b[0mHTTP.Messages.Request, \n",
      "\u001b[90mclient\u001b[39m :: [8]\u001b[0mWebSockets.WebSocket \u001b[90m{Sockets.TCPSocket}\u001b[39m\u001b[0m\u001b[1m#1\u001b[22m\u001b[0m\u001b[1m)\u001b[22m\n",
      "\n",
      "\u001b[90m    @ \u001b[39m\u001b[90m    @ \u001b[39m\u001b[90mC:\\Users\\User\\.julia\\packages\\Mux\\3h8RY\\src\\\u001b[39m\u001b[36mMux\u001b[39m\u001b[90;4m Mux.jl\u001b[90mC:\\Users\\User\\.julia\\packages\\Mux\\3h8RY\\src\\\u001b[39m:10\u001b[0m\u001b[90m [inlined]\u001b[39m\u001b[90;4m\n",
      "server.jl:49\u001b[0m \n",
      " [9]  \u001b[0m\u001b[1mtodict\u001b[22m[13]\n",
      " \u001b[90m    @ \u001b[39m\u001b[0m\u001b[1mupgrade\u001b[22m\u001b[90mC:\\Users\\User\\.julia\\packages\\Mux\\3h8RY\\src\\\u001b[39m\u001b[0m\u001b[1m(\u001b[22m\u001b[90;4m\u001b[90mf\u001b[39mbasics.jl:::\u001b[0mMux.var\"#9#10\"25\u001b[90m{Mux.App}\u001b[39m\u001b[0m, \u001b[90m [inlined]\u001b[39m\u001b[90mstream\u001b[39m\n",
      ":: \u001b[0mHTTP.Streams.Stream[10]\u001b[90m{HTTP.Messages.Request, HTTP.ConnectionPool.Transaction{Sockets.TCPSocket}}\u001b[39m \u001b[0m\u001b[1m)\u001b[22m\u001b[0m\u001b[1m#3\u001b[22m\n",
      "\u001b[90m (repeats 2 times)\u001b[39m\u001b[90m    @ \u001b[39m\n",
      "\u001b[32mWebSockets\u001b[39m\u001b[90m    @ \u001b[39m \u001b[90mC:\\Users\\User\\.julia\\packages\\Mux\\3h8RY\\src\\\u001b[39m\u001b[90mC:\\Users\\User\\.julia\\packages\\WebSockets\\QcswW\\src\\\u001b[39m\u001b[90;4mMux.jl:14\u001b[0m\u001b[90m [inlined]\u001b[39m\u001b[90;4m\n",
      "HTTP.jl:201\u001b[0m \n",
      "[11]  \u001b[0m\u001b[1m(::Mux.var\"#1#2\"{Mux.var\"#3#4\"{Mux.var\"#3#4\"{typeof(Mux.todict), typeof(Mux.wcatch)}, typeof(Mux.splitquery)}, Mux.var\"#1#2\"{Mux.var\"#5#6\"{Mux.var\"#31#32\"{Vector{SubString{String}}}, typeof(WebIO.create_socket)}, Mux.var\"#1#2\"{typeof(Mux.wclose), Mux.var\"#1#2\"{Mux.var\"#21#22\"{Mux.var\"#25#26\"{Symbol, Int64}}, Mux.var\"#23#24\"{String}}}}})\u001b[22m[14]\u001b[0m\u001b[1m(\u001b[22m \u001b[90mx\u001b[39m\u001b[0m\u001b[1m(::WebSockets.var\"#_servercoroutine#11\"{WebSockets.ServerWS})\u001b[22m::\u001b[0m\u001b[1m(\u001b[22m\u001b[0mTuple\u001b[90mstream\u001b[39m\u001b[90m{HTTP.Messages.Request, WebSockets.WebSocket{Sockets.TCPSocket}}\u001b[39m::\u001b[0m\u001b[1m)\u001b[22m\u001b[0mHTTP.Streams.Stream\n",
      "\u001b[90m{HTTP.Messages.Request, HTTP.ConnectionPool.Transaction{Sockets.TCPSocket}}\u001b[39m\u001b[90m    @ \u001b[39m\u001b[0m\u001b[1m)\u001b[22m\u001b[36mMux\u001b[39m\n",
      " \u001b[90m    @ \u001b[39m\u001b[90mC:\\Users\\User\\.julia\\packages\\Mux\\3h8RY\\src\\\u001b[39m\u001b[32mWebSockets\u001b[39m\u001b[90;4m Mux.jl\u001b[90mC:\\Users\\User\\.julia\\packages\\WebSockets\\QcswW\\src\\\u001b[39m:10\u001b[0m\u001b[90;4m\n",
      "HTTP.jl:370\u001b[0m \n",
      "[12]  \u001b[0m\u001b[1m(::Mux.var\"#9#10\"{Mux.App})\u001b[22m[15]\u001b[0m\u001b[1m(\u001b[22m \u001b[90mreq\u001b[39m\u001b[0m\u001b[1mmacro expansion\u001b[22m::\n",
      "\u001b[0mHTTP.Messages.Request\u001b[90m    @ \u001b[39m, \u001b[90mC:\\Users\\User\\.julia\\packages\\HTTP\\D0FSE\\src\\\u001b[39m\u001b[90mclient\u001b[39m\u001b[90;4m::Servers.jl\u001b[0mWebSockets.WebSocket:\u001b[90m{Sockets.TCPSocket}\u001b[39m413\u001b[0m\u001b[1m)\u001b[22m\u001b[0m\n",
      "\u001b[90m [inlined]\u001b[39m\u001b[90m    @ \u001b[39m\n",
      "\u001b[36mMux\u001b[39m  [16]\u001b[90mC:\\Users\\User\\.julia\\packages\\Mux\\3h8RY\\src\\\u001b[39m \u001b[90;4m\u001b[0m\u001b[1m(::HTTP.Servers.var\"#13#14\"{WebSockets.var\"#_servercoroutine#11\"{WebSockets.ServerWS}, HTTP.ConnectionPool.Transaction{Sockets.TCPSocket}, HTTP.Servers.Server{Nothing, Sockets.TCPServer}, HTTP.Streams.Stream{HTTP.Messages.Request, HTTP.ConnectionPool.Transaction{Sockets.TCPSocket}}})\u001b[22mserver.jl\u001b[0m\u001b[1m(\u001b[22m:\u001b[0m\u001b[1m)\u001b[22m49\n",
      "\u001b[0m\u001b[90m    @ \u001b[39m\u001b[33mHTTP.Servers\u001b[39m\n",
      "  \u001b[90m.\\\u001b[39m[13] \u001b[90;4m\u001b[0m\u001b[1mupgrade\u001b[22mtask.jl\u001b[0m\u001b[1m(\u001b[22m:\u001b[90mf\u001b[39m411::\u001b[0m\u001b[0mMux.var\"#9#10\"\u001b[90m{Mux.App}\u001b[39m\n",
      ", \n",
      "\u001b[91m    nested task error: \u001b[39m\u001b[90mstream\u001b[39mWebSockets.WebSocketClosedError(\"ws|server respond to OPCODE_CLOSE 1001: Going Away\")\n",
      "    Stacktrace:\n",
      "     [1] \u001b[0m\u001b[1mhandle_control_frame\u001b[22m\u001b[0m\u001b[1m(\u001b[22m\u001b[90mws\u001b[39m::\u001b[0mWebSockets.WebSocket\u001b[90m{Sockets.TCPSocket}\u001b[39m, \u001b[90mwsf\u001b[39m::\u001b[0mWebSockets.WebSocketFragment\u001b[0m\u001b[1m)\u001b[22m\n",
      "    \u001b[90m   @ \u001b[39m\u001b[35mWebSockets\u001b[39m \u001b[90mC:\\Users\\User\\.julia\\packages\\WebSockets\\QcswW\\src\\\u001b[39m\u001b[90;4mWebSockets.jl:376\u001b[0m\n",
      "     [2] \u001b[0m\u001b[1mread\u001b[22m\u001b[0m\u001b[1m(\u001b[22m\u001b[90mws\u001b[39m::\u001b[0mWebSockets.WebSocket\u001b[90m{Sockets.TCPSocket}\u001b[39m\u001b[0m\u001b[1m)\u001b[22m\n",
      "    \u001b[90m   @ \u001b[39m\u001b[35mWebSockets\u001b[39m \u001b[90mC:\\Users\\User\\.julia\\packages\\WebSockets\\QcswW\\src\\\u001b[39m\u001b[90;4mWebSockets.jl:459\u001b[0m\n",
      "     [3] \u001b[0m\u001b[1mmacro expansion\u001b[22m\n",
      "    \u001b[90m   @ \u001b[39m\u001b[90mC:\\Users\\User\\.julia\\packages\\WebIO\\Rk8wc\\src\\providers\\\u001b[39m\u001b[90;4mmux.jl:38\u001b[0m\u001b[90m [inlined]\u001b[39m\n",
      "     [4] \u001b[0m\u001b[1m(::WebIO.var\"#97#98\"{WebIO.WebSockConnection, WebSockets.WebSocket{Sockets.TCPSocket}})\u001b[22m\u001b[0m\u001b[1m(\u001b[22m\u001b[0m\u001b[1m)\u001b[22m\n",
      "    \u001b[90m   @ \u001b[39m\u001b[36mWebIO\u001b[39m \u001b[90m.\\\u001b[39m\u001b[90;4mtask.jl:411\u001b[0m::\u001b[0mHTTP.Streams.Stream\u001b[90m{HTTP.Messages.Request, HTTP.ConnectionPool.Transaction{Sockets.TCPSocket}}\u001b[39m\u001b[0m\u001b[1m)\u001b[22m\n",
      "\u001b[90m    @ \u001b[39m\u001b[32mWebSockets\u001b[39m \u001b[90mC:\\Users\\User\\.julia\\packages\\WebSockets\\QcswW\\src\\\u001b[39m\u001b[90;4mHTTP.jl:201\u001b[0m\n",
      " [14] \u001b[0m\u001b[1m(::WebSockets.var\"#_servercoroutine#11\"{WebSockets.ServerWS})\u001b[22m\u001b[0m\u001b[1m(\u001b[22m\u001b[90mstream\u001b[39m::\u001b[0mHTTP.Streams.Stream\u001b[90m{HTTP.Messages.Request, HTTP.ConnectionPool.Transaction{Sockets.TCPSocket}}\u001b[39m\u001b[0m\u001b[1m)\u001b[22m\n",
      "\u001b[90m    @ \u001b[39m\u001b[32mWebSockets\u001b[39m \u001b[90mC:\\Users\\User\\.julia\\packages\\WebSockets\\QcswW\\src\\\u001b[39m\u001b[90;4mHTTP.jl:370\u001b[0m\n",
      " [15] \u001b[0m\u001b[1mmacro expansion\u001b[22m\n",
      "\u001b[90m    @ \u001b[39m\u001b[90mC:\\Users\\User\\.julia\\packages\\HTTP\\D0FSE\\src\\\u001b[39m\u001b[90;4mServers.jl:413\u001b[0m\u001b[90m [inlined]\u001b[39m\n",
      " [16] \u001b[0m\u001b[1m(::HTTP.Servers.var\"#13#14\"{WebSockets.var\"#_servercoroutine#11\"{WebSockets.ServerWS}, HTTP.ConnectionPool.Transaction{Sockets.TCPSocket}, HTTP.Servers.Server{Nothing, Sockets.TCPServer}, HTTP.Streams.Stream{HTTP.Messages.Request, HTTP.ConnectionPool.Transaction{Sockets.TCPSocket}}})\u001b[22m\u001b[0m\u001b[1m(\u001b[22m\u001b[0m\u001b[1m)\u001b[22m\n",
      "\u001b[90m    @ \u001b[39m\u001b[33mHTTP.Servers\u001b[39m \u001b[90m.\\\u001b[39m\u001b[90;4mtask.jl:411\u001b[0m\n",
      "\n",
      "\u001b[91m    nested task error: \u001b[39mWebSockets.WebSocketClosedError(\"ws|server respond to OPCODE_CLOSE 1001: Going Away\")\n",
      "    Stacktrace:\n",
      "     [1] \u001b[0m\u001b[1mhandle_control_frame\u001b[22m\u001b[0m\u001b[1m(\u001b[22m\u001b[90mws\u001b[39m::\u001b[0mWebSockets.WebSocket\u001b[90m{Sockets.TCPSocket}\u001b[39m, \u001b[90mwsf\u001b[39m::\u001b[0mWebSockets.WebSocketFragment\u001b[0m\u001b[1m)\u001b[22m\n",
      "    \u001b[90m   @ \u001b[39m\u001b[35mWebSockets\u001b[39m \u001b[90mC:\\Users\\User\\.julia\\packages\\WebSockets\\QcswW\\src\\\u001b[39m\u001b[90;4mWebSockets.jl:376\u001b[0m\n",
      "     [2] \u001b[0m\u001b[1mread\u001b[22m\u001b[0m\u001b[1m(\u001b[22m\u001b[90mws\u001b[39m::\u001b[0mWebSockets.WebSocket\u001b[90m{Sockets.TCPSocket}\u001b[39m\u001b[0m\u001b[1m)\u001b[22m\n",
      "    \u001b[90m   @ \u001b[39m\u001b[35mWebSockets\u001b[39m \u001b[90mC:\\Users\\User\\.julia\\packages\\WebSockets\\QcswW\\src\\\u001b[39m\u001b[90;4mWebSockets.jl:459\u001b[0m\n",
      "     [3] \u001b[0m\u001b[1mmacro expansion\u001b[22m\n",
      "    \u001b[90m   @ \u001b[39m\u001b[90mC:\\Users\\User\\.julia\\packages\\WebIO\\Rk8wc\\src\\providers\\\u001b[39m\u001b[90;4mmux.jl:38\u001b[0m\u001b[90m [inlined]\u001b[39m\n",
      "     [4] \u001b[0m\u001b[1m(::WebIO.var\"#97#98\"{WebIO.WebSockConnection, WebSockets.WebSocket{Sockets.TCPSocket}})\u001b[22m\u001b[0m\u001b[1m(\u001b[22m\u001b[0m\u001b[1m)\u001b[22m\n",
      "    \u001b[90m   @ \u001b[39m\u001b[36mWebIO\u001b[39m \u001b[90m.\\\u001b[39m\u001b[90;4mtask.jl:411\u001b[0mError handling websocket connection:\n",
      "TaskFailedException\n",
      "Stacktrace:\n",
      "  [1] \u001b[0m\u001b[1mwait\u001b[22m\n",
      "\u001b[90m    @ \u001b[39m\u001b[90m.\\\u001b[39m\u001b[90;4mtask.jl:322\u001b[0m\u001b[90m [inlined]\u001b[39m\n",
      "  [2] \u001b[0m\u001b[1mcreate_socket\u001b[22m\u001b[0m\u001b[1m(\u001b[22m\u001b[90mreq\u001b[39m::\u001b[0mDict\u001b[90m{Any, Any}\u001b[39m\u001b[0m\u001b[1m)\u001b[22m\n",
      "\u001b[90m    @ \u001b[39m\u001b[35mWebIO\u001b[39m \u001b[90mC:\\Users\\User\\.julia\\packages\\WebIO\\Rk8wc\\src\\providers\\\u001b[39m\u001b[90;4mmux.jl:44\u001b[0m\n",
      "  [3] \u001b[0m\u001b[1m(::Mux.var\"#5#6\"{Mux.var\"#31#32\"{Vector{SubString{String}}}, typeof(WebIO.create_socket)})\u001b[22m\u001b[0m\u001b[1m(\u001b[22m\u001b[90mf\u001b[39m::\u001b[0mFunction, \u001b[90mx\u001b[39m::\u001b[0mDict\u001b[90m{Any, Any}\u001b[39m\u001b[0m\u001b[1m)\u001b[22m\n",
      "\u001b[90m    @ \u001b[39m\u001b[36mMux\u001b[39m \u001b[90mC:\\Users\\User\\.julia\\packages\\Mux\\3h8RY\\src\\\u001b[39m\u001b[90;4mMux.jl:17\u001b[0m\n",
      "  [4] \u001b[0m\u001b[1m(::Mux.var\"#1#2\"{Mux.var\"#5#6\"{Mux.var\"#31#32\"{Vector{SubString{String}}}, typeof(WebIO.create_socket)}, Mux.var\"#1#2\"{typeof(Mux.wclose), Mux.var\"#1#2\"{Mux.var\"#21#22\"{Mux.var\"#25#26\"{Symbol, Int64}}, Mux.var\"#23#24\"{String}}}})\u001b[22m\u001b[0m\u001b[1m(\u001b[22m\u001b[90mx\u001b[39m::\u001b[0mDict\u001b[90m{Any, Any}\u001b[39m\u001b[0m\u001b[1m)\u001b[22m\n",
      "\u001b[90m    @ \u001b[39m\u001b[36mMux\u001b[39m \u001b[90mC:\\Users\\User\\.julia\\packages\\Mux\\3h8RY\\src\\\u001b[39m\u001b[90;4mMux.jl:10\u001b[0m\n",
      "  [5] \u001b[0m\u001b[1msplitquery\u001b[22m\u001b[0m\u001b[1m(\u001b[22m\u001b[90mapp\u001b[39m::\u001b[0mMux.var\"#1#2\"\u001b[90m{Mux.var\"#5#6\"{Mux.var\"#31#32\"{Vector{SubString{String}}}, typeof(WebIO.create_socket)}, Mux.var\"#1#2\"{typeof(Mux.wclose), Mux.var\"#1#2\"{Mux.var\"#21#22\"{Mux.var\"#25#26\"{Symbol, Int64}}, Mux.var\"#23#24\"{String}}}}\u001b[39m, \u001b[90mreq\u001b[39m::\u001b[0mDict\u001b[90m{Any, Any}\u001b[39m\u001b[0m\u001b[1m)\u001b[22m\n",
      "\u001b[90m    @ \u001b[39m\u001b[36mMux\u001b[39m \u001b[90mC:\\Users\\User\\.julia\\packages\\Mux\\3h8RY\\src\\\u001b[39m\u001b[90;4mbasics.jl:31\u001b[0m\n",
      "  [6] \u001b[0m\u001b[1m#1\u001b[22m\n",
      "\u001b[90m    @ \u001b[39m\u001b[90mC:\\Users\\User\\.julia\\packages\\Mux\\3h8RY\\src\\\u001b[39m\u001b[90;4mMux.jl:10\u001b[0m\u001b[90m [inlined]\u001b[39m\n",
      "  [7] \u001b[0m\u001b[1mwcatch\u001b[22m\u001b[0m\u001b[1m(\u001b[22m\u001b[90mapp\u001b[39m::\u001b[0mMux.var\"#1#2\"\u001b[90m{typeof(Mux.splitquery), Mux.var\"#1#2\"{Mux.var\"#5#6\"{Mux.var\"#31#32\"{Vector{SubString{String}}}, typeof(WebIO.create_socket)}, Mux.var\"#1#2\"{typeof(Mux.wclose), Mux.var\"#1#2\"{Mux.var\"#21#22\"{Mux.var\"#25#26\"{Symbol, Int64}}, Mux.var\"#23#24\"{String}}}}}\u001b[39m, \u001b[90mreq\u001b[39m::\u001b[0mDict\u001b[90m{Any, Any}\u001b[39m\u001b[0m\u001b[1m)\u001b[22m\n",
      "\u001b[90m    @ \u001b[39m\u001b[36mMux\u001b[39m \u001b[90mC:\\Users\\User\\.julia\\packages\\Mux\\3h8RY\\src\\\u001b[39m\u001b[90;4mwebsockets_integration.jl:12\u001b[0m\n",
      "  [8] \u001b[0m\u001b[1m#1\u001b[22m\n",
      "\u001b[90m    @ \u001b[39m\u001b[90mC:\\Users\\User\\.julia\\packages\\Mux\\3h8RY\\src\\\u001b[39m\u001b[90;4mMux.jl:10\u001b[0m\u001b[90m [inlined]\u001b[39m\n",
      "  [9] \u001b[0m\u001b[1mtodict\u001b[22m\n",
      "\u001b[90m    @ \u001b[39m\u001b[90mC:\\Users\\User\\.julia\\packages\\Mux\\3h8RY\\src\\\u001b[39m\u001b[90;4mbasics.jl:25\u001b[0m\u001b[90m [inlined]\u001b[39m\n",
      " [10] \u001b[0m\u001b[1m#3\u001b[22m\u001b[90m (repeats 2 times)\u001b[39m\n",
      "\u001b[90m    @ \u001b[39m\u001b[90mC:\\Users\\User\\.julia\\packages\\Mux\\3h8RY\\src\\\u001b[39m\u001b[90;4mMux.jl:14\u001b[0m\u001b[90m [inlined]\u001b[39m\n",
      " [11] \u001b[0m\u001b[1m(::Mux.var\"#1#2\"{Mux.var\"#3#4\"{Mux.var\"#3#4\"{typeof(Mux.todict), typeof(Mux.wcatch)}, typeof(Mux.splitquery)}, Mux.var\"#1#2\"{Mux.var\"#5#6\"{Mux.var\"#31#32\"{Vector{SubString{String}}}, typeof(WebIO.create_socket)}, Mux.var\"#1#2\"{typeof(Mux.wclose), Mux.var\"#1#2\"{Mux.var\"#21#22\"{Mux.var\"#25#26\"{Symbol, Int64}}, Mux.var\"#23#24\"{String}}}}})\u001b[22m\u001b[0m\u001b[1m(\u001b[22m\u001b[90mx\u001b[39m::\u001b[0mTuple\u001b[90m{HTTP.Messages.Request, WebSockets.WebSocket{Sockets.TCPSocket}}\u001b[39m\u001b[0m\u001b[1m)\u001b[22m\n",
      "\u001b[90m    @ \u001b[39m\u001b[36mMux\u001b[39m \u001b[90mC:\\Users\\User\\.julia\\packages\\Mux\\3h8RY\\src\\\u001b[39m\u001b[90;4mMux.jl:10\u001b[0m\n",
      " [12] \u001b[0m\u001b[1m(::Mux.var\"#9#10\"{Mux.App})\u001b[22m\u001b[0m\u001b[1m(\u001b[22m\u001b[90mreq\u001b[39m::\u001b[0mHTTP.Messages.Request, \u001b[90mclient\u001b[39m::\u001b[0mWebSockets.WebSocket\u001b[90m{Sockets.TCPSocket}\u001b[39m\u001b[0m\u001b[1m)\u001b[22m\n",
      "\u001b[90m    @ \u001b[39m\u001b[36mMux\u001b[39m \u001b[90mC:\\Users\\User\\.julia\\packages\\Mux\\3h8RY\\src\\\u001b[39m\u001b[90;4mserver.jl:49\u001b[0m\n",
      " [13] \u001b[0m\u001b[1mupgrade\u001b[22m\u001b[0m\u001b[1m(\u001b[22m\u001b[90mf\u001b[39m::\u001b[0mMux.var\"#9#10\"\u001b[90m{Mux.App}\u001b[39m, \u001b[90mstream\u001b[39m::\u001b[0mHTTP.Streams.Stream\u001b[90m{HTTP.Messages.Request, HTTP.ConnectionPool.Transaction{Sockets.TCPSocket}}\u001b[39m\u001b[0m\u001b[1m)\u001b[22m\n",
      "\u001b[90m    @ \u001b[39m\u001b[32mWebSockets\u001b[39m \u001b[90mC:\\Users\\User\\.julia\\packages\\WebSockets\\QcswW\\src\\\u001b[39m\u001b[90;4mHTTP.jl:201\u001b[0m\n",
      " [14] \u001b[0m\u001b[1m(::WebSockets.var\"#_servercoroutine#11\"{WebSockets.ServerWS})\u001b[22m\u001b[0m\u001b[1m(\u001b[22m\u001b[90mstream\u001b[39m::\u001b[0mHTTP.Streams.Stream\u001b[90m{HTTP.Messages.Request, HTTP.ConnectionPool.Transaction{Sockets.TCPSocket}}\u001b[39m\u001b[0m\u001b[1m)\u001b[22m\n",
      "\u001b[90m    @ \u001b[39m\u001b[32mWebSockets\u001b[39m \u001b[90mC:\\Users\\User\\.julia\\packages\\WebSockets\\QcswW\\src\\\u001b[39m\u001b[90;4mHTTP.jl:370\u001b[0m\n",
      " [15] \u001b[0m\u001b[1mmacro expansion\u001b[22m\n",
      "\u001b[90m    @ \u001b[39m\u001b[90mC:\\Users\\User\\.julia\\packages\\HTTP\\D0FSE\\src\\\u001b[39m\u001b[90;4mServers.jl:413\u001b[0m\u001b[90m [inlined]\u001b[39m\n",
      " [16] \u001b[0m\u001b[1m(::HTTP.Servers.var\"#13#14\"{WebSockets.var\"#_servercoroutine#11\"{WebSockets.ServerWS}, HTTP.ConnectionPool.Transaction{Sockets.TCPSocket}, HTTP.Servers.Server{Nothing, Sockets.TCPServer}, HTTP.Streams.Stream{HTTP.Messages.Request, HTTP.ConnectionPool.Transaction{Sockets.TCPSocket}}})\u001b[22m\u001b[0m\u001b[1m(\u001b[22m\u001b[0m\u001b[1m)\u001b[22m\n",
      "\u001b[90m    @ \u001b[39m\u001b[33mHTTP.Servers\u001b[39m \u001b[90m.\\\u001b[39m\u001b[90;4mtask.jl:411\u001b[0m\n",
      "\n",
      "\u001b[91m    nested task error: \u001b[39mWebSockets.WebSocketClosedError(\"ws|server respond to OPCODE_CLOSE 1001: Going Away\")\n",
      "    Stacktrace:\n",
      "     [1] \u001b[0m\u001b[1mhandle_control_frame\u001b[22m\u001b[0m\u001b[1m(\u001b[22m\u001b[90mws\u001b[39m::\u001b[0mWebSockets.WebSocket\u001b[90m{Sockets.TCPSocket}\u001b[39m, \u001b[90mwsf\u001b[39m::\u001b[0mWebSockets.WebSocketFragment\u001b[0m\u001b[1m)\u001b[22m\n",
      "    \u001b[90m   @ \u001b[39m\u001b[35mWebSockets\u001b[39m \u001b[90mC:\\Users\\User\\.julia\\packages\\WebSockets\\QcswW\\src\\\u001b[39m\u001b[90;4mWebSockets.jl:376\u001b[0m\n",
      "     [2] \u001b[0m\u001b[1mread\u001b[22m\u001b[0m\u001b[1m(\u001b[22m\u001b[90mws\u001b[39m::\u001b[0mWebSockets.WebSocket\u001b[90m{Sockets.TCPSocket}\u001b[39m\u001b[0m\u001b[1m)\u001b[22m\n",
      "    \u001b[90m   @ \u001b[39m\u001b[35mWebSockets\u001b[39m \u001b[90mC:\\Users\\User\\.julia\\packages\\WebSockets\\QcswW\\src\\\u001b[39m\u001b[90;4mWebSockets.jl:459\u001b[0m\n",
      "     [3] \u001b[0m\u001b[1mmacro expansion\u001b[22m\n",
      "    \u001b[90m   @ \u001b[39m\u001b[90mC:\\Users\\User\\.julia\\packages\\WebIO\\Rk8wc\\src\\providers\\\u001b[39m\u001b[90;4mmux.jl:38\u001b[0m\u001b[90m [inlined]\u001b[39m\n",
      "     [4] \u001b[0m\u001b[1m(::WebIO.var\"#97#98\"{WebIO.WebSockConnection, WebSockets.WebSocket{Sockets.TCPSocket}})\u001b[22m\u001b[0m\u001b[1m(\u001b[22m\u001b[0m\u001b[1m)\u001b[22m\n",
      "    \u001b[90m   @ \u001b[39m\u001b[36mWebIO\u001b[39m \u001b[90m.\\\u001b[39m\u001b[90;4mtask.jl:411\u001b[0mError handling websocket connection:\n",
      "TaskFailedException\n",
      "Stacktrace:\n",
      "  [1] \u001b[0m\u001b[1mwait\u001b[22m\n",
      "\u001b[90m    @ \u001b[39m\u001b[90m.\\\u001b[39m\u001b[90;4mtask.jl:322\u001b[0m\u001b[90m [inlined]\u001b[39m\n",
      "  [2] \u001b[0m\u001b[1mcreate_socket\u001b[22m\u001b[0m\u001b[1m(\u001b[22m\u001b[90mreq\u001b[39m::\u001b[0mDict\u001b[90m{Any, Any}\u001b[39m\u001b[0m\u001b[1m)\u001b[22m\n",
      "\u001b[90m    @ \u001b[39m\u001b[35mWebIO\u001b[39m \u001b[90mC:\\Users\\User\\.julia\\packages\\WebIO\\Rk8wc\\src\\providers\\\u001b[39m\u001b[90;4mmux.jl:44\u001b[0m\n",
      "  [3] \u001b[0m\u001b[1m(::Mux.var\"#5#6\"{Mux.var\"#31#32\"{Vector{SubString{String}}}, typeof(WebIO.create_socket)})\u001b[22m\u001b[0m\u001b[1m(\u001b[22m\u001b[90mf\u001b[39m::\u001b[0mFunction, \u001b[90mx\u001b[39m::\u001b[0mDict\u001b[90m{Any, Any}\u001b[39m\u001b[0m\u001b[1m)\u001b[22m\n",
      "\u001b[90m    @ \u001b[39m\u001b[36mMux\u001b[39m \u001b[90mC:\\Users\\User\\.julia\\packages\\Mux\\3h8RY\\src\\\u001b[39m\u001b[90;4mMux.jl:17\u001b[0m\n",
      "  [4] \u001b[0m\u001b[1m(::Mux.var\"#1#2\"{Mux.var\"#5#6\"{Mux.var\"#31#32\"{Vector{SubString{String}}}, typeof(WebIO.create_socket)}, Mux.var\"#1#2\"{typeof(Mux.wclose), Mux.var\"#1#2\"{Mux.var\"#21#22\"{Mux.var\"#25#26\"{Symbol, Int64}}, Mux.var\"#23#24\"{String}}}})\u001b[22m\u001b[0m\u001b[1m(\u001b[22m\u001b[90mx\u001b[39m::\u001b[0mDict\u001b[90m{Any, Any}\u001b[39m\u001b[0m\u001b[1m)\u001b[22m\n",
      "\u001b[90m    @ \u001b[39m\u001b[36mMux\u001b[39m \u001b[90mC:\\Users\\User\\.julia\\packages\\Mux\\3h8RY\\src\\\u001b[39m\u001b[90;4mMux.jl:10\u001b[0m\n",
      "  [5] \u001b[0m\u001b[1msplitquery\u001b[22m\u001b[0m\u001b[1m(\u001b[22m\u001b[90mapp\u001b[39m::\u001b[0mMux.var\"#1#2\"\u001b[90m{Mux.var\"#5#6\"{Mux.var\"#31#32\"{Vector{SubString{String}}}, typeof(WebIO.create_socket)}, Mux.var\"#1#2\"{typeof(Mux.wclose), Mux.var\"#1#2\"{Mux.var\"#21#22\"{Mux.var\"#25#26\"{Symbol, Int64}}, Mux.var\"#23#24\"{String}}}}\u001b[39m, \u001b[90mreq\u001b[39m::\u001b[0mDict\u001b[90m{Any, Any}\u001b[39m\u001b[0m\u001b[1m)\u001b[22m\n",
      "\u001b[90m    @ \u001b[39m\u001b[36mMux\u001b[39m \u001b[90mC:\\Users\\User\\.julia\\packages\\Mux\\3h8RY\\src\\\u001b[39m\u001b[90;4mbasics.jl:31\u001b[0m\n",
      "  [6] \u001b[0m\u001b[1m#1\u001b[22m\n",
      "\u001b[90m    @ \u001b[39m\u001b[90mC:\\Users\\User\\.julia\\packages\\Mux\\3h8RY\\src\\\u001b[39m\u001b[90;4mMux.jl:10\u001b[0m\u001b[90m [inlined]\u001b[39m\n",
      "  [7] \u001b[0m\u001b[1mwcatch\u001b[22m\u001b[0m\u001b[1m(\u001b[22m\u001b[90mapp\u001b[39m::\u001b[0mMux.var\"#1#2\"\u001b[90m{typeof(Mux.splitquery), Mux.var\"#1#2\"{Mux.var\"#5#6\"{Mux.var\"#31#32\"{Vector{SubString{String}}}, typeof(WebIO.create_socket)}, Mux.var\"#1#2\"{typeof(Mux.wclose), Mux.var\"#1#2\"{Mux.var\"#21#22\"{Mux.var\"#25#26\"{Symbol, Int64}}, Mux.var\"#23#24\"{String}}}}}\u001b[39m, \u001b[90mreq\u001b[39m::\u001b[0mDict\u001b[90m{Any, Any}\u001b[39m\u001b[0m\u001b[1m)\u001b[22m\n",
      "\u001b[90m    @ \u001b[39m\u001b[36mMux\u001b[39m \u001b[90mC:\\Users\\User\\.julia\\packages\\Mux\\3h8RY\\src\\\u001b[39m\u001b[90;4mwebsockets_integration.jl:12\u001b[0m\n",
      "  [8] \u001b[0m\u001b[1m#1\u001b[22m\n",
      "\u001b[90m    @ \u001b[39m\u001b[90mC:\\Users\\User\\.julia\\packages\\Mux\\3h8RY\\src\\\u001b[39m\u001b[90;4mMux.jl:10\u001b[0m\u001b[90m [inlined]\u001b[39m\n",
      "  [9] \u001b[0m\u001b[1mtodict\u001b[22m\n",
      "\u001b[90m    @ \u001b[39m\u001b[90mC:\\Users\\User\\.julia\\packages\\Mux\\3h8RY\\src\\\u001b[39m\u001b[90;4mbasics.jl:25\u001b[0m\u001b[90m [inlined]\u001b[39m\n",
      " [10] \u001b[0m\u001b[1m#3\u001b[22m\u001b[90m (repeats 2 times)\u001b[39m\n",
      "\u001b[90m    @ \u001b[39m\u001b[90mC:\\Users\\User\\.julia\\packages\\Mux\\3h8RY\\src\\\u001b[39m\u001b[90;4mMux.jl:14\u001b[0m\u001b[90m [inlined]\u001b[39m\n",
      " [11] \u001b[0m\u001b[1m(::Mux.var\"#1#2\"{Mux.var\"#3#4\"{Mux.var\"#3#4\"{typeof(Mux.todict), typeof(Mux.wcatch)}, typeof(Mux.splitquery)}, Mux.var\"#1#2\"{Mux.var\"#5#6\"{Mux.var\"#31#32\"{Vector{SubString{String}}}, typeof(WebIO.create_socket)}, Mux.var\"#1#2\"{typeof(Mux.wclose), Mux.var\"#1#2\"{Mux.var\"#21#22\"{Mux.var\"#25#26\"{Symbol, Int64}}, Mux.var\"#23#24\"{String}}}}})\u001b[22m\u001b[0m\u001b[1m(\u001b[22m\u001b[90mx\u001b[39m::\u001b[0mTuple\u001b[90m{HTTP.Messages.Request, WebSockets.WebSocket{Sockets.TCPSocket}}\u001b[39m\u001b[0m\u001b[1m)\u001b[22m\n",
      "\u001b[90m    @ \u001b[39m\u001b[36mMux\u001b[39m \u001b[90mC:\\Users\\User\\.julia\\packages\\Mux\\3h8RY\\src\\\u001b[39m\u001b[90;4mMux.jl:10\u001b[0m\n",
      " [12] \u001b[0m\u001b[1m(::Mux.var\"#9#10\"{Mux.App})\u001b[22m\u001b[0m\u001b[1m(\u001b[22m\u001b[90mreq\u001b[39m::\u001b[0mHTTP.Messages.Request, \u001b[90mclient\u001b[39m::\u001b[0mWebSockets.WebSocket\u001b[90m{Sockets.TCPSocket}\u001b[39m\u001b[0m\u001b[1m)\u001b[22m\n",
      "\u001b[90m    @ \u001b[39m\u001b[36mMux\u001b[39m \u001b[90mC:\\Users\\User\\.julia\\packages\\Mux\\3h8RY\\src\\\u001b[39m\u001b[90;4mserver.jl:49\u001b[0m\n",
      " [13] \u001b[0m\u001b[1mupgrade\u001b[22m\u001b[0m\u001b[1m(\u001b[22m\u001b[90mf\u001b[39m::\u001b[0mMux.var\"#9#10\"\u001b[90m{Mux.App}\u001b[39m, \u001b[90mstream\u001b[39m::\u001b[0mHTTP.Streams.Stream\u001b[90m{HTTP.Messages.Request, HTTP.ConnectionPool.Transaction{Sockets.TCPSocket}}\u001b[39m\u001b[0m\u001b[1m)\u001b[22m\n",
      "\u001b[90m    @ \u001b[39m\u001b[32mWebSockets\u001b[39m \u001b[90mC:\\Users\\User\\.julia\\packages\\WebSockets\\QcswW\\src\\\u001b[39m\u001b[90;4mHTTP.jl:201\u001b[0m\n",
      " [14] \u001b[0m\u001b[1m(::WebSockets.var\"#_servercoroutine#11\"{WebSockets.ServerWS})\u001b[22m\u001b[0m\u001b[1m(\u001b[22m\u001b[90mstream\u001b[39m::\u001b[0mHTTP.Streams.Stream\u001b[90m{HTTP.Messages.Request, HTTP.ConnectionPool.Transaction{Sockets.TCPSocket}}\u001b[39m\u001b[0m\u001b[1m)\u001b[22m\n",
      "\u001b[90m    @ \u001b[39m\u001b[32mWebSockets\u001b[39m \u001b[90mC:\\Users\\User\\.julia\\packages\\WebSockets\\QcswW\\src\\\u001b[39m\u001b[90;4mHTTP.jl:370\u001b[0m\n",
      " [15] \u001b[0m\u001b[1mmacro expansion\u001b[22m\n",
      "\u001b[90m    @ \u001b[39m\u001b[90mC:\\Users\\User\\.julia\\packages\\HTTP\\D0FSE\\src\\\u001b[39m\u001b[90;4mServers.jl:413\u001b[0m\u001b[90m [inlined]\u001b[39m\n",
      " [16] \u001b[0m\u001b[1m(::HTTP.Servers.var\"#13#14\"{WebSockets.var\"#_servercoroutine#11\"{WebSockets.ServerWS}, HTTP.ConnectionPool.Transaction{Sockets.TCPSocket}, HTTP.Servers.Server{Nothing, Sockets.TCPServer}, HTTP.Streams.Stream{HTTP.Messages.Request, HTTP.ConnectionPool.Transaction{Sockets.TCPSocket}}})\u001b[22m\u001b[0m\u001b[1m(\u001b[22m\u001b[0m\u001b[1m)\u001b[22m\n",
      "\u001b[90m    @ \u001b[39m\u001b[33mHTTP.Servers\u001b[39m \u001b[90m.\\\u001b[39m\u001b[90;4mtask.jl:411\u001b[0m\n",
      "\n",
      "\u001b[91m    nested task error: \u001b[39mWebSockets.WebSocketClosedError(\"ws|server respond to OPCODE_CLOSE 1001: Going Away\")\n",
      "    Stacktrace:\n",
      "     [1] \u001b[0m\u001b[1mhandle_control_frame\u001b[22m\u001b[0m\u001b[1m(\u001b[22m\u001b[90mws\u001b[39m::\u001b[0mWebSockets.WebSocket\u001b[90m{Sockets.TCPSocket}\u001b[39m, \u001b[90mwsf\u001b[39m::\u001b[0mWebSockets.WebSocketFragment\u001b[0m\u001b[1m)\u001b[22m\n",
      "    \u001b[90m   @ \u001b[39m\u001b[35mWebSockets\u001b[39m \u001b[90mC:\\Users\\User\\.julia\\packages\\WebSockets\\QcswW\\src\\\u001b[39m\u001b[90;4mWebSockets.jl:376\u001b[0m\n",
      "     [2] \u001b[0m\u001b[1mread\u001b[22m\u001b[0m\u001b[1m(\u001b[22m\u001b[90mws\u001b[39m::\u001b[0mWebSockets.WebSocket\u001b[90m{Sockets.TCPSocket}\u001b[39m\u001b[0m\u001b[1m)\u001b[22m\n",
      "    \u001b[90m   @ \u001b[39m\u001b[35mWebSockets\u001b[39m \u001b[90mC:\\Users\\User\\.julia\\packages\\WebSockets\\QcswW\\src\\\u001b[39m\u001b[90;4mWebSockets.jl:459\u001b[0m\n",
      "     [3] \u001b[0m\u001b[1mmacro expansion\u001b[22m\n",
      "    \u001b[90m   @ \u001b[39m\u001b[90mC:\\Users\\User\\.julia\\packages\\WebIO\\Rk8wc\\src\\providers\\\u001b[39m\u001b[90;4mmux.jl:38\u001b[0m\u001b[90m [inlined]\u001b[39m\n",
      "     [4] \u001b[0m\u001b[1m(::WebIO.var\"#97#98\"{WebIO.WebSockConnection, WebSockets.WebSocket{Sockets.TCPSocket}})\u001b[22m\u001b[0m\u001b[1m(\u001b[22m\u001b[0m\u001b[1m)\u001b[22m\n",
      "    \u001b[90m   @ \u001b[39m\u001b[36mWebIO\u001b[39m \u001b[90m.\\\u001b[39m\u001b[90;4mtask.jl:411\u001b[0m"
     ]
    }
   ],
   "metadata": {}
  },
  {
   "cell_type": "code",
   "execution_count": 10,
   "source": [
    "r_lift = get_quad_locations(x_platform, d, π/4, num_lift; config=:platform, r_cables = r_anc)"
   ],
   "outputs": [
    {
     "output_type": "execute_result",
     "data": {
      "text/plain": [
       "4-element Vector{Vector{Float64}}:\n",
       " [0.4142135623730949, 0.0, 1.4142135623730951]\n",
       " [2.5363265666181656e-17, 0.4142135623730949, 1.4142135623730951]\n",
       " [-0.4142135623730949, 5.072653133236331e-17, 1.4142135623730951]\n",
       " [-7.608979699854499e-17, -0.4142135623730949, 1.4142135623730951]"
      ]
     },
     "metadata": {},
     "execution_count": 10
    }
   ],
   "metadata": {}
  },
  {
   "cell_type": "code",
   "execution_count": 16,
   "source": [
    "r_platform = [0 0 0]\r\n",
    "q_platform = [1. -0. 0 1]\r\n",
    "settransform!(vis[\"platform\"], compose(Translation(r_platform...),LinearMap(Quat(q_platform...))))"
   ],
   "outputs": [
    {
     "output_type": "execute_result",
     "data": {
      "text/plain": [
       "MeshCat Visualizer with path /meshcat/platform"
      ]
     },
     "metadata": {},
     "execution_count": 16
    }
   ],
   "metadata": {}
  },
  {
   "cell_type": "code",
   "execution_count": 3,
   "source": [
    "r_platform = [1. 2. 3.]\r\n",
    "q_platform = [0. 0. 0. 0.]\r\n",
    "x_platform = [r_platform q_platform]\r\n",
    "\r\n",
    "x_platform[1:3]"
   ],
   "outputs": [
    {
     "output_type": "execute_result",
     "data": {
      "text/plain": [
       "3-element Vector{Float64}:\n",
       " 1.0\n",
       " 2.0\n",
       " 3.0"
      ]
     },
     "metadata": {},
     "execution_count": 3
    }
   ],
   "metadata": {}
  },
  {
   "cell_type": "code",
   "execution_count": null,
   "source": [
    "ẋ = \r\n",
    "x = \r\n",
    "u = \r\n",
    "params ="
   ],
   "outputs": [],
   "metadata": {}
  },
  {
   "cell_type": "code",
   "execution_count": null,
   "source": [
    "x_load1 = [0., 0., 1., 0., 0., 0., 1.]\r\n",
    "x_load2 = [0., 0., 0., 0., 0., 0., 1.]\r\n",
    "a = get_anchors_global(x_load1, 1., 4)\r\n",
    "b = get_anchors_global(x_load2, 1., 4)\r\n",
    "b - a"
   ],
   "outputs": [],
   "metadata": {}
  },
  {
   "cell_type": "code",
   "execution_count": null,
   "source": [
    "p = get_anchors_local(1,3);\r\n",
    "x = [p[i][1] for i = 1:length(p)]\r\n",
    "y = [p[i][2] for i = 1:length(p)]\r\n",
    "plot(x,y, seriestype = :scatter)"
   ],
   "outputs": [],
   "metadata": {}
  },
  {
   "cell_type": "code",
   "execution_count": null,
   "source": [
    "# u is all the agents forces+directions appended in matrix form\r\n",
    "function platform_dynamics!(ẋ,x,u,params)\r\n",
    "\r\n",
    "    # States\r\n",
    "    q = normalize(Quaternion(view(x,4:7)))\r\n",
    "    v = view(x,8:10)\r\n",
    "    omega = view(x,11:13)\r\n",
    "\r\n",
    "    # Parameters\r\n",
    "    m = params[:m] # mass\r\n",
    "    J = params[:J] # inertia matrix\r\n",
    "    Jinv = params[:Jinv] # inverted inertia matrix\r\n",
    "    g = params[:gravity] # gravity\r\n",
    "    L = params[:motor_dist] # distance between motors, dont need this\r\n",
    "\r\n",
    "    # State equations -Rigid Body Dynamics - In World Frame\r\n",
    "    ẋ[1:3] = v # velocity in world frame\r\n",
    "    ẋ[4:7] = SVector(0.5*q*Quaternion(zero(x[1]), omega...))\r\n",
    "    # Superposing forces\r\n",
    "    F = sum(u, dim =2)\r\n",
    "    # Calculating the moments , anchors must correspond to the force. #NOTE - use local ancher\r\n",
    "    τ = sum([cross(r[i],u[i,:]) for i=1:length(r)])\r\n",
    "    ẋ[8:10] = g + (1/m)*F #acceleration in world frame \r\n",
    "    ẋ[11:13] = Jinv*(τ - cross(omega,J*omega)) # Euler's equation: I*ω + ω x I*ω = constraint_decrease_ratio\r\n",
    "    #NOTE - The external force does not affect the rotational dynamics. It is assumed that the external force is applied at COM\r\n",
    "    return τ, omega, J, Jinv\r\n",
    "end"
   ],
   "outputs": [],
   "metadata": {}
  },
  {
   "cell_type": "code",
   "execution_count": 10,
   "source": [
    "a = [1, 2, 3, 4, 5, 6, 7, 8 ]\r\n",
    "a[1:5 .!= 4]"
   ],
   "outputs": [
    {
     "output_type": "error",
     "ename": "LoadError",
     "evalue": "BoundsError: attempt to access 8-element Vector{Int64} at index [Bool[1, 1, 1, 0, 1]]",
     "traceback": [
      "BoundsError: attempt to access 8-element Vector{Int64} at index [Bool[1, 1, 1, 0, 1]]",
      "",
      "Stacktrace:",
      " [1] throw_boundserror(A::Vector{Int64}, I::Tuple{Base.LogicalIndex{Int64, BitVector}})",
      "   @ Base .\\abstractarray.jl:651",
      " [2] checkbounds",
      "   @ .\\abstractarray.jl:616 [inlined]",
      " [3] _getindex",
      "   @ .\\multidimensional.jl:831 [inlined]",
      " [4] getindex(A::Vector{Int64}, I::BitVector)",
      "   @ Base .\\abstractarray.jl:1170",
      " [5] top-level scope",
      "   @ In[10]:2",
      " [6] eval",
      "   @ .\\boot.jl:360 [inlined]",
      " [7] include_string(mapexpr::typeof(REPL.softscope), mod::Module, code::String, filename::String)",
      "   @ Base .\\loading.jl:1094"
     ]
    }
   ],
   "metadata": {}
  },
  {
   "cell_type": "code",
   "execution_count": null,
   "source": [
    "τ = sum([cross(p[i],u[i,:]) for i=1:length(p)])"
   ],
   "outputs": [],
   "metadata": {}
  },
  {
   "cell_type": "code",
   "execution_count": null,
   "source": [
    "sum(τ)"
   ],
   "outputs": [],
   "metadata": {}
  }
 ],
 "metadata": {
  "orig_nbformat": 4,
  "language_info": {
   "file_extension": ".jl",
   "name": "julia",
   "mimetype": "application/julia",
   "version": "1.6.1"
  },
  "kernelspec": {
   "name": "julia-1.6",
   "display_name": "Julia 1.6.1",
   "language": "julia"
  }
 },
 "nbformat": 4,
 "nbformat_minor": 2
}